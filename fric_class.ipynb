{
 "cells": [
  {
   "cell_type": "code",
   "execution_count": 1,
   "metadata": {},
   "outputs": [],
   "source": [
    "import pandas as pd\n",
    "import numpy as np\n",
    "import sklearn"
   ]
  },
  {
   "cell_type": "code",
   "execution_count": 2,
   "metadata": {},
   "outputs": [],
   "source": [
    "#importing train train and test datasets\n",
    "\n",
    "df_train = pd.read_excel(\"binary_sib_train.xlsx\")\n",
    "df_train = sklearn.utils.shuffle(df_train)\n",
    "\n",
    "df_test = pd.read_excel(\"binary_sib_test.xlsx\")\n",
    "df_test = sklearn.utils.shuffle(df_test)\n",
    "\n",
    "# Fixing column name, but that doesn't really matter.\n",
    "df_test = df_test.rename(columns={\"spectral+peak\":'spectral_peak'})"
   ]
  },
  {
   "cell_type": "code",
   "execution_count": 3,
   "metadata": {
    "scrolled": true
   },
   "outputs": [
    {
     "data": {
      "text/html": [
       "<div>\n",
       "<style scoped>\n",
       "    .dataframe tbody tr th:only-of-type {\n",
       "        vertical-align: middle;\n",
       "    }\n",
       "\n",
       "    .dataframe tbody tr th {\n",
       "        vertical-align: top;\n",
       "    }\n",
       "\n",
       "    .dataframe thead th {\n",
       "        text-align: right;\n",
       "    }\n",
       "</style>\n",
       "<table border=\"1\" class=\"dataframe\">\n",
       "  <thead>\n",
       "    <tr style=\"text-align: right;\">\n",
       "      <th></th>\n",
       "      <th>group</th>\n",
       "      <th>duration</th>\n",
       "      <th>spectral_peak</th>\n",
       "      <th>variance</th>\n",
       "      <th>skewness</th>\n",
       "      <th>kurtosis</th>\n",
       "    </tr>\n",
       "  </thead>\n",
       "  <tbody>\n",
       "    <tr>\n",
       "      <th>111</th>\n",
       "      <td>healthy</td>\n",
       "      <td>106.645</td>\n",
       "      <td>6498.414</td>\n",
       "      <td>782.107509035124:3'</td>\n",
       "      <td>-0.562</td>\n",
       "      <td>0.495</td>\n",
       "    </tr>\n",
       "    <tr>\n",
       "      <th>76</th>\n",
       "      <td>healthy</td>\n",
       "      <td>115.587</td>\n",
       "      <td>4500.208</td>\n",
       "      <td>1078.2028037882958:3'</td>\n",
       "      <td>-0.525</td>\n",
       "      <td>4.168</td>\n",
       "    </tr>\n",
       "    <tr>\n",
       "      <th>79</th>\n",
       "      <td>healthy</td>\n",
       "      <td>70.176</td>\n",
       "      <td>5124.400</td>\n",
       "      <td>1101.2248759923311:3'</td>\n",
       "      <td>-2.772</td>\n",
       "      <td>10.474</td>\n",
       "    </tr>\n",
       "    <tr>\n",
       "      <th>82</th>\n",
       "      <td>healthy</td>\n",
       "      <td>115.494</td>\n",
       "      <td>1423.574</td>\n",
       "      <td>1627.4181925064313:3'</td>\n",
       "      <td>1.141</td>\n",
       "      <td>0.286</td>\n",
       "    </tr>\n",
       "    <tr>\n",
       "      <th>118</th>\n",
       "      <td>healthy</td>\n",
       "      <td>125.550</td>\n",
       "      <td>5417.394</td>\n",
       "      <td>689.2575921535297:3'</td>\n",
       "      <td>1.942</td>\n",
       "      <td>4.637</td>\n",
       "    </tr>\n",
       "  </tbody>\n",
       "</table>\n",
       "</div>"
      ],
      "text/plain": [
       "       group  duration  spectral_peak               variance  skewness  \\\n",
       "111  healthy   106.645       6498.414    782.107509035124:3'    -0.562   \n",
       "76   healthy   115.587       4500.208  1078.2028037882958:3'    -0.525   \n",
       "79   healthy    70.176       5124.400  1101.2248759923311:3'    -2.772   \n",
       "82   healthy   115.494       1423.574  1627.4181925064313:3'     1.141   \n",
       "118  healthy   125.550       5417.394   689.2575921535297:3'     1.942   \n",
       "\n",
       "     kurtosis  \n",
       "111     0.495  \n",
       "76      4.168  \n",
       "79     10.474  \n",
       "82      0.286  \n",
       "118     4.637  "
      ]
     },
     "execution_count": 3,
     "metadata": {},
     "output_type": "execute_result"
    }
   ],
   "source": [
    "df_test.head()"
   ]
  },
  {
   "cell_type": "code",
   "execution_count": 4,
   "metadata": {},
   "outputs": [],
   "source": [
    "#df_test.head()"
   ]
  },
  {
   "cell_type": "code",
   "execution_count": 5,
   "metadata": {},
   "outputs": [],
   "source": [
    "# This just changes the labels to 1's and 0's\n",
    "new_group = {\"dysarthria\": 1,\"healthy\": 0}\n",
    "df_train['group'] = df_train['group'].map(new_group)\n",
    "df_test['group'] = df_test['group'].map(new_group)"
   ]
  },
  {
   "cell_type": "code",
   "execution_count": 6,
   "metadata": {},
   "outputs": [
    {
     "data": {
      "text/html": [
       "<div>\n",
       "<style scoped>\n",
       "    .dataframe tbody tr th:only-of-type {\n",
       "        vertical-align: middle;\n",
       "    }\n",
       "\n",
       "    .dataframe tbody tr th {\n",
       "        vertical-align: top;\n",
       "    }\n",
       "\n",
       "    .dataframe thead th {\n",
       "        text-align: right;\n",
       "    }\n",
       "</style>\n",
       "<table border=\"1\" class=\"dataframe\">\n",
       "  <thead>\n",
       "    <tr style=\"text-align: right;\">\n",
       "      <th></th>\n",
       "      <th>group</th>\n",
       "      <th>duration</th>\n",
       "      <th>spectral_peak</th>\n",
       "      <th>variance</th>\n",
       "      <th>skewness</th>\n",
       "      <th>kurtosis</th>\n",
       "    </tr>\n",
       "  </thead>\n",
       "  <tbody>\n",
       "    <tr>\n",
       "      <th>231</th>\n",
       "      <td>0</td>\n",
       "      <td>173.427</td>\n",
       "      <td>4909.193</td>\n",
       "      <td>1144.8479861930664:3'</td>\n",
       "      <td>0.819</td>\n",
       "      <td>-0.332</td>\n",
       "    </tr>\n",
       "    <tr>\n",
       "      <th>72</th>\n",
       "      <td>1</td>\n",
       "      <td>154.827</td>\n",
       "      <td>2409.890</td>\n",
       "      <td>813.6341070238246:3'</td>\n",
       "      <td>3.059</td>\n",
       "      <td>8.585</td>\n",
       "    </tr>\n",
       "    <tr>\n",
       "      <th>149</th>\n",
       "      <td>0</td>\n",
       "      <td>93.621</td>\n",
       "      <td>5723.319</td>\n",
       "      <td>1191.0631329137598:3'</td>\n",
       "      <td>-0.395</td>\n",
       "      <td>-1.028</td>\n",
       "    </tr>\n",
       "    <tr>\n",
       "      <th>21</th>\n",
       "      <td>1</td>\n",
       "      <td>99.547</td>\n",
       "      <td>663.347</td>\n",
       "      <td>1148.632947973426:3'</td>\n",
       "      <td>3.640</td>\n",
       "      <td>12.647</td>\n",
       "    </tr>\n",
       "    <tr>\n",
       "      <th>261</th>\n",
       "      <td>0</td>\n",
       "      <td>127.188</td>\n",
       "      <td>4269.173</td>\n",
       "      <td>1452.97982958551:3'</td>\n",
       "      <td>0.608</td>\n",
       "      <td>-1.014</td>\n",
       "    </tr>\n",
       "  </tbody>\n",
       "</table>\n",
       "</div>"
      ],
      "text/plain": [
       "     group  duration  spectral_peak               variance  skewness  kurtosis\n",
       "231      0   173.427       4909.193  1144.8479861930664:3'     0.819    -0.332\n",
       "72       1   154.827       2409.890   813.6341070238246:3'     3.059     8.585\n",
       "149      0    93.621       5723.319  1191.0631329137598:3'    -0.395    -1.028\n",
       "21       1    99.547        663.347   1148.632947973426:3'     3.640    12.647\n",
       "261      0   127.188       4269.173    1452.97982958551:3'     0.608    -1.014"
      ]
     },
     "execution_count": 6,
     "metadata": {},
     "output_type": "execute_result"
    }
   ],
   "source": [
    "df_train.tail()"
   ]
  },
  {
   "cell_type": "code",
   "execution_count": 7,
   "metadata": {},
   "outputs": [],
   "source": [
    "# I made a mistake when writing the praat script to extract variance so I just fixed it here.\n",
    "def clean(x):\n",
    "    x = x.replace(\":\", \"\").replace(\"'\", \"\").replace(\" \", \"\")\n",
    "    return float(x)\n",
    "\n",
    "df_train['variance'] = df_train['variance'].apply(clean)\n",
    "df_test['variance'] = df_test['variance'].apply(clean)"
   ]
  },
  {
   "cell_type": "code",
   "execution_count": 8,
   "metadata": {},
   "outputs": [
    {
     "data": {
      "text/html": [
       "<div>\n",
       "<style scoped>\n",
       "    .dataframe tbody tr th:only-of-type {\n",
       "        vertical-align: middle;\n",
       "    }\n",
       "\n",
       "    .dataframe tbody tr th {\n",
       "        vertical-align: top;\n",
       "    }\n",
       "\n",
       "    .dataframe thead th {\n",
       "        text-align: right;\n",
       "    }\n",
       "</style>\n",
       "<table border=\"1\" class=\"dataframe\">\n",
       "  <thead>\n",
       "    <tr style=\"text-align: right;\">\n",
       "      <th></th>\n",
       "      <th>group</th>\n",
       "      <th>duration</th>\n",
       "      <th>spectral_peak</th>\n",
       "      <th>variance</th>\n",
       "      <th>skewness</th>\n",
       "      <th>kurtosis</th>\n",
       "    </tr>\n",
       "  </thead>\n",
       "  <tbody>\n",
       "    <tr>\n",
       "      <th>137</th>\n",
       "      <td>1</td>\n",
       "      <td>190.200</td>\n",
       "      <td>5547.812</td>\n",
       "      <td>1034.387930</td>\n",
       "      <td>-0.236</td>\n",
       "      <td>0.300</td>\n",
       "    </tr>\n",
       "    <tr>\n",
       "      <th>156</th>\n",
       "      <td>0</td>\n",
       "      <td>92.903</td>\n",
       "      <td>5209.087</td>\n",
       "      <td>1506.342765</td>\n",
       "      <td>-0.317</td>\n",
       "      <td>-1.438</td>\n",
       "    </tr>\n",
       "    <tr>\n",
       "      <th>102</th>\n",
       "      <td>1</td>\n",
       "      <td>119.144</td>\n",
       "      <td>4922.496</td>\n",
       "      <td>1527.264670</td>\n",
       "      <td>0.548</td>\n",
       "      <td>-1.134</td>\n",
       "    </tr>\n",
       "    <tr>\n",
       "      <th>269</th>\n",
       "      <td>0</td>\n",
       "      <td>108.479</td>\n",
       "      <td>5156.119</td>\n",
       "      <td>567.023489</td>\n",
       "      <td>1.835</td>\n",
       "      <td>4.681</td>\n",
       "    </tr>\n",
       "    <tr>\n",
       "      <th>233</th>\n",
       "      <td>0</td>\n",
       "      <td>131.215</td>\n",
       "      <td>4561.936</td>\n",
       "      <td>584.195393</td>\n",
       "      <td>-0.112</td>\n",
       "      <td>0.404</td>\n",
       "    </tr>\n",
       "  </tbody>\n",
       "</table>\n",
       "</div>"
      ],
      "text/plain": [
       "     group  duration  spectral_peak     variance  skewness  kurtosis\n",
       "137      1   190.200       5547.812  1034.387930    -0.236     0.300\n",
       "156      0    92.903       5209.087  1506.342765    -0.317    -1.438\n",
       "102      1   119.144       4922.496  1527.264670     0.548    -1.134\n",
       "269      0   108.479       5156.119   567.023489     1.835     4.681\n",
       "233      0   131.215       4561.936   584.195393    -0.112     0.404"
      ]
     },
     "execution_count": 8,
     "metadata": {},
     "output_type": "execute_result"
    }
   ],
   "source": [
    "df_train.head()"
   ]
  },
  {
   "cell_type": "code",
   "execution_count": 9,
   "metadata": {},
   "outputs": [],
   "source": [
    "# This is to separate the features from the labels.\n",
    "y_train = df_train['group'].values\n",
    "X_train = df_train.drop('group', axis=1).values\n",
    "\n",
    "y_test = df_test['group'].values\n",
    "X_test = df_test.drop('group', axis=1).values"
   ]
  },
  {
   "cell_type": "code",
   "execution_count": 10,
   "metadata": {},
   "outputs": [
    {
     "data": {
      "text/plain": [
       "array([1, 0, 1, 0, 0, 1, 1, 0, 0, 1, 1, 1, 1, 1, 1, 1, 1, 0, 1, 1, 1, 1, 1,\n",
       "       1, 1, 1, 0, 0, 1, 0, 0, 1, 1, 0, 0, 0, 0, 1, 0, 0, 1, 1, 0, 0, 1, 1,\n",
       "       1, 0, 1, 1, 0, 1, 0, 1, 1, 1, 1, 1, 0, 1, 0, 1, 0, 1, 1, 1, 1, 1, 1,\n",
       "       0, 0, 1, 0, 1, 0, 1, 1, 0, 1, 0, 0, 1, 1, 0, 0, 1, 1, 1, 0, 1, 1, 1,\n",
       "       0, 0, 1, 1, 1, 0, 1, 1, 0, 1, 0, 0, 0, 0, 1, 0, 0, 1, 1, 1, 1, 1, 1,\n",
       "       0, 1, 1, 0, 1, 1, 1, 0, 1, 1, 1, 0, 0, 1, 0, 0, 0, 1, 1, 0, 0, 0, 1,\n",
       "       0, 1, 1, 0, 0, 1, 1, 0, 0, 0, 0, 1, 0, 0, 1, 1, 0, 1, 1, 0, 0, 0, 0,\n",
       "       1, 0, 0, 0, 0, 1, 0, 1, 0, 0, 0, 0, 1, 0, 0, 1, 1, 1, 0, 0, 1, 1, 0,\n",
       "       1, 1, 1, 0, 1, 0, 0, 1, 0, 1, 1, 1, 1, 0, 0, 0, 0, 1, 1, 1, 0, 0, 1,\n",
       "       1, 0, 0, 0, 1, 1, 0, 0, 1, 0, 0, 0, 1, 0, 0, 1, 1, 1, 0, 1, 0, 1, 1,\n",
       "       1, 1, 1, 0, 0, 1, 1, 0, 1, 0, 1, 1, 1, 1, 0, 1, 1, 1, 1, 0, 0, 1, 0,\n",
       "       1, 1, 1, 1, 0, 0, 0, 0, 0, 0, 0, 1, 0, 0, 0, 0, 1, 0, 1, 0])"
      ]
     },
     "execution_count": 10,
     "metadata": {},
     "output_type": "execute_result"
    }
   ],
   "source": [
    "# As you can see, all labels are either a 1 for dysarthria or 0 for healthy\n",
    "y_train"
   ]
  },
  {
   "cell_type": "code",
   "execution_count": 11,
   "metadata": {},
   "outputs": [
    {
     "name": "stdout",
     "output_type": "stream",
     "text": [
      "<class 'numpy.ndarray'>\n",
      "<class 'numpy.ndarray'>\n",
      "<class 'numpy.float64'>\n"
     ]
    }
   ],
   "source": [
    "print(type(X_train))\n",
    "print(type(X_train[0]))\n",
    "print(type(X_train[0][0]))"
   ]
  },
  {
   "cell_type": "code",
   "execution_count": 12,
   "metadata": {},
   "outputs": [
    {
     "data": {
      "text/plain": [
       "array([[  1.90200000e+02,   5.54781200e+03,   1.03438793e+03,\n",
       "         -2.36000000e-01,   3.00000000e-01],\n",
       "       [  9.29030000e+01,   5.20908700e+03,   1.50634277e+03,\n",
       "         -3.17000000e-01,  -1.43800000e+00],\n",
       "       [  1.19144000e+02,   4.92249600e+03,   1.52726467e+03,\n",
       "          5.48000000e-01,  -1.13400000e+00],\n",
       "       ..., \n",
       "       [  9.36210000e+01,   5.72331900e+03,   1.19106313e+03,\n",
       "         -3.95000000e-01,  -1.02800000e+00],\n",
       "       [  9.95470000e+01,   6.63347000e+02,   1.14863295e+03,\n",
       "          3.64000000e+00,   1.26470000e+01],\n",
       "       [  1.27188000e+02,   4.26917300e+03,   1.45297983e+03,\n",
       "          6.08000000e-01,  -1.01400000e+00]])"
      ]
     },
     "execution_count": 12,
     "metadata": {},
     "output_type": "execute_result"
    }
   ],
   "source": [
    "# Each vector represents 1 fricative and is a set of the 5 fricative measurements\n",
    "X_train"
   ]
  },
  {
   "cell_type": "code",
   "execution_count": 13,
   "metadata": {},
   "outputs": [
    {
     "name": "stdout",
     "output_type": "stream",
     "text": [
      "(273, 5)\n",
      "(125, 5)\n",
      "(273,)\n",
      "(125,)\n"
     ]
    }
   ],
   "source": [
    "# So we have 273 fricatives for training and 125 for testing.\n",
    "print(X_train.shape)\n",
    "print(X_test.shape)\n",
    "print(y_train.shape)\n",
    "print(y_test.shape)"
   ]
  },
  {
   "cell_type": "code",
   "execution_count": 15,
   "metadata": {},
   "outputs": [
    {
     "data": {
      "text/plain": [
       "array([ 0.5606338 ,  0.70476418, -0.26612724, -0.37834791, -0.39366798])"
      ]
     },
     "execution_count": 15,
     "metadata": {},
     "output_type": "execute_result"
    }
   ],
   "source": [
    "# Here we import libraries to scale the data and for applying 10-fold cross validation\n",
    "from sklearn.model_selection import cross_val_score\n",
    "from sklearn import preprocessing\n",
    "\n",
    "X_train = preprocessing.scale(X_train)\n",
    "X_test = preprocessing.scale(X_test)\n",
    "CV = 10\n",
    "X_train[0]"
   ]
  },
  {
   "cell_type": "code",
   "execution_count": 16,
   "metadata": {},
   "outputs": [
    {
     "name": "stdout",
     "output_type": "stream",
     "text": [
      "[ 0.89285714  0.64285714  0.78571429  0.67857143  0.67857143  0.89285714\n",
      "  0.88888889  0.65384615  0.84615385  0.61538462]\n",
      "RF mean: 0.75757020757\n"
     ]
    }
   ],
   "source": [
    "from sklearn.ensemble import RandomForestClassifier\n",
    "clf2 = RandomForestClassifier(n_estimators=100)\n",
    "scores = cross_val_score(clf2, X_train, y_train, cv=CV, scoring='accuracy')\n",
    "print(scores)\n",
    "print(\"RF mean:\", scores.mean())"
   ]
  },
  {
   "cell_type": "code",
   "execution_count": 17,
   "metadata": {
    "scrolled": true
   },
   "outputs": [
    {
     "name": "stdout",
     "output_type": "stream",
     "text": [
      "[ 0.85714286  0.67857143  0.67857143  0.75        0.64285714  0.75\n",
      "  0.74074074  0.69230769  0.80769231  0.61538462]\n",
      "K mean: 0.721326821327\n"
     ]
    }
   ],
   "source": [
    "from sklearn.neighbors import KNeighborsClassifier\n",
    "neigh = KNeighborsClassifier(n_neighbors=3)\n",
    "scores = cross_val_score(neigh, X_train, y_train, cv=CV, scoring='accuracy')\n",
    "print(scores)\n",
    "print(\"K mean:\", scores.mean())"
   ]
  },
  {
   "cell_type": "code",
   "execution_count": 18,
   "metadata": {},
   "outputs": [
    {
     "name": "stdout",
     "output_type": "stream",
     "text": [
      "[ 0.85714286  0.75        0.89285714  0.75        0.64285714  0.85714286\n",
      "  0.7037037   0.80769231  0.88461538  0.65384615]\n",
      "SVM mean: 0.779985754986\n"
     ]
    }
   ],
   "source": [
    "from sklearn.svm import SVC\n",
    "clf = SVC(gamma=1, kernel='rbf', C=1)\n",
    "scores = cross_val_score(clf, X_train, y_train, cv=CV)\n",
    "print(scores)\n",
    "print(\"SVM mean:\", scores.mean())"
   ]
  },
  {
   "cell_type": "code",
   "execution_count": 21,
   "metadata": {},
   "outputs": [
    {
     "data": {
      "text/plain": [
       "0.81599999999999995"
      ]
     },
     "execution_count": 21,
     "metadata": {},
     "output_type": "execute_result"
    }
   ],
   "source": [
    "from sklearn.svm import SVC\n",
    "clf = SVC(gamma=0.1, kernel='rbf', C=0.1)\n",
    "\n",
    "clf.fit(X_train, y_train)\n",
    "clf.score(X_test,y_test)"
   ]
  },
  {
   "cell_type": "code",
   "execution_count": 30,
   "metadata": {},
   "outputs": [
    {
     "name": "stdout",
     "output_type": "stream",
     "text": [
      "Precision: 0.8\n",
      "Recall: 0.838709677419\n",
      "F1 score (weighted): 0.815929325907\n",
      "F1 score (binary): 0.818897637795\n",
      "F1 score (micro): 0.816\n",
      "F1 score: 0.818897637795\n"
     ]
    }
   ],
   "source": [
    "from sklearn import metrics\n",
    "from sklearn.metrics import f1_score\n",
    "\n",
    "y_pred = clf.predict(X_test)\n",
    "print(\"Precision:\",metrics.precision_score(y_test, y_pred))\n",
    "print(\"Recall:\",metrics.recall_score(y_test, y_pred))\n",
    "print(\"F1 score (weighted):\",f1_score(y_test, y_pred, average='weighted'))\n",
    "print(\"F1 score (binary):\",f1_score(y_test, y_pred, average='binary'))\n",
    "print(\"F1 score (micro):\",f1_score(y_test, y_pred, average='micro'))\n",
    "print(\"F1 score:\",f1_score(y_test, y_pred))"
   ]
  },
  {
   "cell_type": "code",
   "execution_count": 24,
   "metadata": {
    "scrolled": true
   },
   "outputs": [
    {
     "data": {
      "text/plain": [
       "[Text(33.0, 0.5, 'observed'), Text(0.5, 15.0, 'predicted')]"
      ]
     },
     "execution_count": 24,
     "metadata": {},
     "output_type": "execute_result"
    },
    {
     "data": {
      "image/png": "[encoded data removed]",
      "text/plain": [
       "<Figure size 432x288 with 2 Axes>"
      ]
     },
     "metadata": {
      "needs_background": "light"
     },
     "output_type": "display_data"
    }
   ],
   "source": [
    "from sklearn.metrics import confusion_matrix\n",
    "from seaborn import heatmap \n",
    "\n",
    "cm = confusion_matrix(y_test, y_pred, labels=[0,1])\n",
    "\n",
    "ax = heatmap(cm, annot=True, cmap=\"Blues\", fmt='d',\n",
    "            linewidth=.2,\n",
    "            xticklabels=['healthy','dyarthria'],\n",
    "            yticklabels=['healthy','dyarthria'])\n",
    "ax.set(xlabel='predicted', ylabel='observed')"
   ]
  },
  {
   "cell_type": "code",
   "execution_count": null,
   "metadata": {},
   "outputs": [],
   "source": []
  }
 ],
 "metadata": {
  "kernelspec": {
   "display_name": "Python 3",
   "language": "python",
   "name": "python3"
  },
  "language_info": {
   "codemirror_mode": {
    "name": "ipython",
    "version": 3
   },
   "file_extension": ".py",
   "mimetype": "text/x-python",
   "name": "python",
   "nbconvert_exporter": "python",
   "pygments_lexer": "ipython3",
   "version": "3.6.8"
  }
 },
 "nbformat": 4,
 "nbformat_minor": 2
}
